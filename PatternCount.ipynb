{
 "cells": [
  {
   "cell_type": "code",
   "execution_count": 17,
   "id": "600c3a9e-8ad2-4204-bbef-a883c2dc61b5",
   "metadata": {},
   "outputs": [],
   "source": [
    "from Bio import SeqIO\n",
    "\n",
    "# Open the fasta file and read sequences\n",
    "salmo_chrome = r\"C:\\Users\\User\\Downloads\\Salmonella_enterica.txt\"  # Replace with your file path"
   ]
  },
  {
   "cell_type": "code",
   "execution_count": 18,
   "id": "bb8ea18a-d2fc-41ad-9c5a-7c7c1ed1a2d6",
   "metadata": {},
   "outputs": [],
   "source": [
    "def readGenome(salmo_chrome):\n",
    "    genome = ''\n",
    "    with open(salmo_chrome, 'r') as f:\n",
    "        for line in f:\n",
    "            # ignore header line with genome information\n",
    "            if not line[0] == '>':\n",
    "                genome += line.rstrip()\n",
    "    return genome"
   ]
  },
  {
   "cell_type": "code",
   "execution_count": 19,
   "id": "29ea1793-ec48-4973-8c36-10d0ad24c013",
   "metadata": {},
   "outputs": [],
   "source": [
    "genome = readGenome(salmo_chrome)"
   ]
  },
  {
   "cell_type": "code",
   "execution_count": 29,
   "id": "7c02d881-a5bf-4626-8408-363b10551bf1",
   "metadata": {},
   "outputs": [],
   "source": [
    "def pattern_count(text, pattern):\n",
    "    count = 0\n",
    "    text_length = len(text)\n",
    "    pattern_length = len(pattern)\n",
    "\n",
    "    for i in range(text_length - pattern_length + 1):\n",
    "        if text[i:i + pattern_length] == pattern:\n",
    "            count += 1\n",
    "    return count"
   ]
  },
  {
   "cell_type": "code",
   "execution_count": 11,
   "id": "0d03e319-f850-48be-aa43-93381ca29fb9",
   "metadata": {},
   "outputs": [
    {
     "name": "stdout",
     "output_type": "stream",
     "text": [
      "5\n"
     ]
    }
   ],
   "source": [
    "text = 'CGCGATACGTTACATACATGATAGACCGCGCGCGATCATATCGCGATTATC'\n",
    "pattern = 'CGCG'\n",
    "print(pattern_count(text, pattern)) "
   ]
  },
  {
   "cell_type": "code",
   "execution_count": 5,
   "id": "0deb93d1-cec1-43c8-a32c-5b4f500bb3e6",
   "metadata": {},
   "outputs": [
    {
     "name": "stdout",
     "output_type": "stream",
     "text": [
      "2\n"
     ]
    }
   ],
   "source": [
    "text = 'ATGCGCGTA'\n",
    "pattern = 'GCG'\n",
    "print(pattern_count(text, pattern)) "
   ]
  },
  {
   "cell_type": "code",
   "execution_count": 6,
   "id": "81f37f12-20f2-4981-a27e-774f9a34fc70",
   "metadata": {},
   "outputs": [
    {
     "name": "stdout",
     "output_type": "stream",
     "text": [
      "1\n"
     ]
    }
   ],
   "source": [
    "text = 'AAAGAGTGTCTGA'\n",
    "pattern = 'AAA'\n",
    "print(pattern_count(text, pattern)) "
   ]
  },
  {
   "cell_type": "code",
   "execution_count": 7,
   "id": "43957fbf-1e45-4a83-b61f-b3218b51509f",
   "metadata": {},
   "outputs": [
    {
     "name": "stdout",
     "output_type": "stream",
     "text": [
      "1\n"
     ]
    }
   ],
   "source": [
    "text = 'AGCGTGCCGAAATTT'\n",
    "pattern = 'TTT'\n",
    "print(pattern_count(text, pattern)) "
   ]
  },
  {
   "cell_type": "code",
   "execution_count": 8,
   "id": "615f3d5a-a4b7-444f-b551-6aafdd3d8711",
   "metadata": {},
   "outputs": [
    {
     "name": "stdout",
     "output_type": "stream",
     "text": [
      "2\n"
     ]
    }
   ],
   "source": [
    "text = 'GGACTTACTGACGTACG'\n",
    "pattern = 'ACT'\n",
    "print(pattern_count(text, pattern)) "
   ]
  },
  {
   "cell_type": "code",
   "execution_count": 10,
   "id": "f0665d10-199a-4690-8626-b88a9daefb2a",
   "metadata": {},
   "outputs": [
    {
     "name": "stdout",
     "output_type": "stream",
     "text": [
      "34\n"
     ]
    }
   ],
   "source": [
    "text = 'GGTTCGTTAACCTCGGTGTGCTAAAACTGTTAGCATGCCCCAAACTGTAAACTGTCCGAAAAACTGTAAACTGTGCAAACTGTGAAAAACTGTAAACTGTGCGCGCCCAGATAAAACTGTAAACTGTAAAACTGTGTAAACTGTATGAAACTGTAAACTGTTCCTAAACTGTAGGTGAAACTGTAAACTGTAAACTGTCTATAAAACTGTAAACTGTTGGAAACTGTAAAAACTGTTTAAAACTGTAAACTGTTGGAAACTGTAAACTGTGTCCGTCCGAAAAACTGTTAAACTGTAAAACTGTGGAAAACTGTCGAAAACTGTAAACTGTCAAACTGTATCGATAAACTGTAAAACTGTTTCCAAACTGTTAAACTGTCAAACTGTCGAAAACTGTCCAAACTGTGGCAAACTGTTCAAACTGTATTAAACTGTTAAACTGTAAACTGTAAACTGTAAACTGTGAAACTGTAAACTGTCCGCACTAAACTGTACAATCAAACTGTAAACTGTCCTCACTAGAAACTGTAAACTGTAAACTGTGAAACTGTGGCAAACTGTAAACTGTAAACTGTAAACTGTAAACTGTTAAACTGTGCACCAAACTGTACGACAGGCAGTAGAAACTGTAAAACTGTATGACGCAAACTGTCAAACTGTTCCTAAACTGTGAAACTGTAGCGCGAAACTGTTCAAACTGTTAAACTGTCAAACTGTCTTAGAAAACTGTGAAACTGTAAAACTGTATTATACTTCCTGAAACTGTCACGTAAACTGTGAAACTGTGATAAACTGTTCAGGGTAATATAAACTGTAAACTGTCCAAACTGTTAGCGAAACTGTAAACTGTACAAACTGTAAACTGTATTCAACAAAACTGTAAACTGTTGATAGTGAAACTGTAAACTGTACAAACTGTGGAAACTGTTCCTCAAACTGTAACAAACTGT'\n",
    "pattern = 'AAACTGTAA'\n",
    "print(pattern_count(text, pattern)) "
   ]
  },
  {
   "cell_type": "code",
   "execution_count": 32,
   "id": "e4ecb3d7-91a1-4aec-936f-88ec834a056e",
   "metadata": {},
   "outputs": [],
   "source": [
    "def frequent_words(text, k):\n",
    "    frequent_patterns = set()  # Use a set to automatically remove duplicates\n",
    "    counts = []\n",
    "    text_length = len(text)\n",
    "\n",
    "    for i in range(text_length - k + 1):\n",
    "        pattern = text[i:i + k]\n",
    "        counts.append(pattern_count(text, pattern))  # Use the pattern_count function\n",
    "\n",
    "    max_count = max(counts)\n",
    "\n",
    "    for i in range(text_length - k + 1):\n",
    "        if counts[i] == max_count:\n",
    "            frequent_patterns.add(text[i:i + k])\n",
    "\n",
    "    return frequent_patterns"
   ]
  },
  {
   "cell_type": "code",
   "execution_count": 33,
   "id": "ba2a2448-024b-4833-ad04-d0ed2a70dd20",
   "metadata": {},
   "outputs": [],
   "source": [
    "def frequency_table(text, k):\n",
    "    freq_map = {}\n",
    "    n = len(text)\n",
    "    for i in range(n - k + 1):\n",
    "        pattern = text[i:i + k]\n",
    "        if pattern not in freq_map:\n",
    "            freq_map[pattern] = 1\n",
    "        else:\n",
    "            freq_map[pattern] += 1\n",
    "    return freq_map"
   ]
  },
  {
   "cell_type": "code",
   "execution_count": 34,
   "id": "b7058568-dcaf-42e9-9694-bf2f6d4c5c89",
   "metadata": {},
   "outputs": [],
   "source": [
    "def clump_finder(text, k, L, t):\n",
    "    \n",
    "    frequent_k_mers = set()\n",
    "    n = len(text)\n",
    "    if n < L:\n",
    "        return frequent_k_mers\n",
    "\n",
    "    # 1. Compute the frequency table for the first window\n",
    "    first_window = text[:L]\n",
    "    freq_map = frequency_table(first_window, k)\n",
    "\n",
    "    # 2. Check for clumps in the first window\n",
    "    for kmer, count in freq_map.items():\n",
    "        if count >= t:\n",
    "            frequent_k_mers.add(kmer)\n",
    "\n",
    "    # 3. Slide the window and update the frequency table\n",
    "    for i in range(1, n - L + 1):\n",
    "        # Remove the k-mer that is leaving the window\n",
    "        old_kmer = text[i - 1:i - 1 + k]\n",
    "        freq_map[old_kmer] -= 1\n",
    "        if freq_map[old_kmer] == 0:\n",
    "            del freq_map[old_kmer]  # Remove k-mer if its count reaches 0\n",
    "\n",
    "        # Add the k-mer that is entering the window\n",
    "        new_kmer = text[i + L - k:i + L]\n",
    "        if new_kmer in freq_map:\n",
    "            freq_map[new_kmer] += 1\n",
    "        else:\n",
    "            freq_map[new_kmer] = 1\n",
    "\n",
    "        # Check for clumps in the current window\n",
    "        if freq_map[new_kmer] >= t:\n",
    "            frequent_k_mers.add(new_kmer)\n",
    "\n",
    "    return frequent_k_mers"
   ]
  },
  {
   "cell_type": "code",
   "execution_count": 45,
   "id": "adb2208b-7a35-4072-bbcb-743b773a0a9c",
   "metadata": {},
   "outputs": [
    {
     "name": "stdout",
     "output_type": "stream",
     "text": [
      "k-mers forming clumps: {'AACGTTTCG', 'CGCCCAGCG'}\n"
     ]
    }
   ],
   "source": [
    "text = genome[3751756:3758256]\n",
    "k = 9\n",
    "L = 500\n",
    "t = 3\n",
    "clumps = clump_finder(text, k, L, t)\n",
    "print(f\"k-mers forming clumps: {clumps}\")"
   ]
  },
  {
   "cell_type": "code",
   "execution_count": 23,
   "id": "7f006cc0-128d-4f36-b517-3b6c3b053b67",
   "metadata": {},
   "outputs": [],
   "source": [
    "def hamming_distance(str1, str2):\n",
    "    \n",
    "    if len(str1) != len(str2):\n",
    "        return -1  # Hamming distance is only defined for equal-length strings\n",
    "    distance = 0\n",
    "    for i in range(len(str1)):\n",
    "        if str1[i] != str2[i]:\n",
    "            distance += 1\n",
    "    return distance\n",
    "\n",
    "def approximate_pattern_count(text, pattern, d):\n",
    "    \"\"\"\n",
    "    Counts the number of approximate occurrences of a pattern in a text,\n",
    "    allowing up to d mismatches.\n",
    "\n",
    "    Args:\n",
    "        text: The text string to search within.\n",
    "        pattern: The pattern string to search for.\n",
    "        d: The maximum number of mismatches allowed.\n",
    "\n",
    "    Returns:\n",
    "        The number of times the pattern appears in the text with at most d mismatches.\n",
    "    \"\"\"\n",
    "    count = 0\n",
    "    for i in range(len(text) - len(pattern) + 1):\n",
    "        pattern_prime = text[i:i + len(pattern)]  # Extract substring of text\n",
    "        if hamming_distance(pattern, pattern_prime) <= d:\n",
    "            count += 1\n",
    "    return count"
   ]
  },
  {
   "cell_type": "code",
   "execution_count": 14,
   "id": "a2c806c3-e258-429d-a9d9-8f357bdf6050",
   "metadata": {},
   "outputs": [],
   "source": [
    "def hamming_distance(str1, str2):\n",
    "    \"\"\"\n",
    "    Computes the Hamming distance between two strings.\n",
    "\n",
    "    Args:\n",
    "        str1: The first string.\n",
    "        str2: The second string.\n",
    "\n",
    "    Returns:\n",
    "        The Hamming distance between the two strings.\n",
    "        Returns -1 if the strings have different lengths.\n",
    "    \"\"\"\n",
    "    if len(str1) != len(str2):\n",
    "        return -1  # Hamming distance is only defined for equal-length strings\n",
    "    distance = 0\n",
    "    for i in range(len(str1)):\n",
    "        if str1[i] != str2[i]:\n",
    "            distance += 1\n",
    "    return distance\n",
    "\n",
    "def approximate_pattern_count(text, pattern, d):\n",
    "    \"\"\"\n",
    "    Counts the number of approximate occurrences of a pattern in a text,\n",
    "    allowing up to d mismatches.\n",
    "\n",
    "    Args:\n",
    "        text: The text string to search within.\n",
    "        pattern: The pattern string to search for.\n",
    "        d: The maximum number of mismatches allowed.\n",
    "\n",
    "    Returns:\n",
    "        The number of times the pattern appears in the text with at most d mismatches.\n",
    "    \"\"\"\n",
    "    count = 0\n",
    "    for i in range(len(text) - len(pattern) + 1):\n",
    "        pattern_prime = text[i:i + len(pattern)]  # Extract substring of text\n",
    "        if hamming_distance(pattern, pattern_prime) <= d:\n",
    "            count += 1\n",
    "    return count"
   ]
  },
  {
   "cell_type": "code",
   "execution_count": 48,
   "id": "5fb6d140-369b-448f-a513-2302b03222f8",
   "metadata": {},
   "outputs": [
    {
     "name": "stdout",
     "output_type": "stream",
     "text": [
      "8\n"
     ]
    }
   ],
   "source": [
    "text = 'CGTGACAGTGTATGGGCATCTTT'\n",
    "pattern = 'TGT'\n",
    "d = 1\n",
    "print(approximate_pattern_count(text, pattern, d))"
   ]
  }
 ],
 "metadata": {
  "kernelspec": {
   "display_name": "Python 3 (ipykernel)",
   "language": "python",
   "name": "python3"
  },
  "language_info": {
   "codemirror_mode": {
    "name": "ipython",
    "version": 3
   },
   "file_extension": ".py",
   "mimetype": "text/x-python",
   "name": "python",
   "nbconvert_exporter": "python",
   "pygments_lexer": "ipython3",
   "version": "3.13.1"
  }
 },
 "nbformat": 4,
 "nbformat_minor": 5
}
