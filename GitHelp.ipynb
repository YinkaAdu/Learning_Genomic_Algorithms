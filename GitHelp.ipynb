{
 "cells": [
  {
   "cell_type": "code",
   "execution_count": null,
   "id": "128bcc82-4b0f-4eae-896f-341d9d6d01b8",
   "metadata": {},
   "outputs": [],
   "source": [
    "cd C:\\Users\\User\\OneDrive\\Desktop\\learning_bioinformatics_from_scratch\n",
    "git status\n",
    "git add -A\n",
    "git commit -m \"Your message here\"\n",
    "git pull --rebase origin main\n",
    "git push origin main\n"
   ]
  }
 ],
 "metadata": {
  "kernelspec": {
   "display_name": "Python 3 (ipykernel)",
   "language": "python",
   "name": "python3"
  },
  "language_info": {
   "codemirror_mode": {
    "name": "ipython",
    "version": 3
   },
   "file_extension": ".py",
   "mimetype": "text/x-python",
   "name": "python",
   "nbconvert_exporter": "python",
   "pygments_lexer": "ipython3",
   "version": "3.13.1"
  }
 },
 "nbformat": 4,
 "nbformat_minor": 5
}
