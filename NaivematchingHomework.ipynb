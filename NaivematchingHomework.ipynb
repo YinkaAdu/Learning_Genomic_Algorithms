{
 "cells": [
  {
   "cell_type": "code",
   "execution_count": 2,
   "id": "3eadf3cb-7384-4144-bc07-7cb1aceb7721",
   "metadata": {},
   "outputs": [],
   "source": [
    "from Bio import SeqIO\n",
    "\n",
    "# Open the fasta file and read sequences\n",
    "human_chrome = r\"C:\\Users\\User\\Downloads\\chr1.GRCh38.excerpt.fasta\"  # Replace with your file path"
   ]
  },
  {
   "cell_type": "code",
   "execution_count": 3,
   "id": "2cc5f5d1-4012-4c2c-a09b-e8167078df61",
   "metadata": {},
   "outputs": [],
   "source": [
    "def readGenome(human_chrome):\n",
    "    genome = ''\n",
    "    with open(human_chrome, 'r') as f:\n",
    "        for line in f:\n",
    "            # ignore header line with genome information\n",
    "            if not line[0] == '>':\n",
    "                genome += line.rstrip()\n",
    "    return genome"
   ]
  },
  {
   "cell_type": "code",
   "execution_count": 4,
   "id": "56e25c15-ebc2-48a4-9ce2-4b7706801c8f",
   "metadata": {},
   "outputs": [],
   "source": [
    "genome = readGenome(human_chrome)"
   ]
  },
  {
   "cell_type": "code",
   "execution_count": 6,
   "id": "b5336193-2686-4022-aeb2-f49419a4e28b",
   "metadata": {},
   "outputs": [
    {
     "name": "stdout",
     "output_type": "stream",
     "text": [
      "([], 3, 3)\n"
     ]
    }
   ],
   "source": [
    "def naive(p, t):\n",
    "    \"\"\"\n",
    "    Perform naive string matching and count character comparisons and alignments.\n",
    "    \"\"\"\n",
    "    occurrences = []\n",
    "    alignments = 0\n",
    "    comparisons = 0\n",
    "\n",
    "    for i in range(len(t) - len(p) + 1):\n",
    "        alignments += 1  # Count each alignment\n",
    "        match = True\n",
    "        for j in range(len(p)):\n",
    "            comparisons += 1 # Count each character comparison\n",
    "            if t[i + j] != p[j]:\n",
    "                match = False\n",
    "                break\n",
    "        if match:\n",
    "            occurrences.append(i)\n",
    "    return occurrences, comparisons, alignments\n",
    "\n",
    "\n",
    "\n",
    "t = human_chrome\n",
    "p = 'GGCGCGGTGGCTCACGCCTGTAATCCCAGCACTTTGGGAGGCCGAGG'\n",
    "print(naive(p, t))\n",
    "\n"
   ]
  },
  {
   "cell_type": "code",
   "execution_count": null,
   "id": "7032edd7-e72a-4850-9df7-b5463a5f069e",
   "metadata": {},
   "outputs": [],
   "source": []
  },
  {
   "cell_type": "code",
   "execution_count": null,
   "id": "d52648fc-a181-46aa-aac4-260f11e3943f",
   "metadata": {},
   "outputs": [],
   "source": [
    "import random\n",
    "def generateReads(genome, numReads, readLen):\n",
    "    ''' Generate reads from random positions in the given genome. '''\n",
    "    reads = []\n",
    "    for _ in range(numReads):\n",
    "        start = random.randint(0, len(genome)-readLen) - 1\n",
    "        reads.append(genome[start : start+readLen])\n",
    "    return reads"
   ]
  },
  {
   "cell_type": "code",
   "execution_count": null,
   "id": "541c49a0-f34c-4799-b3d1-741f323483d6",
   "metadata": {},
   "outputs": [],
   "source": [
    "# Generate 100 reads of length 100\n",
    "reads = generateReads(genome, 100, 100)\n",
    "\n",
    "# Count how many reads match the genome exactly\n",
    "numMatched = 0\n",
    "for r in reads:\n",
    "    matches = naive(r, genome)\n",
    "    if len(matches) > 0:\n",
    "        numMatched += 1\n",
    "print('%d / %d reads matched the genome exactly!' % (numMatched, len(reads)))"
   ]
  },
  {
   "cell_type": "code",
   "execution_count": null,
   "id": "bce2cf31-1340-4fe6-a9f7-5b35687097f3",
   "metadata": {},
   "outputs": [],
   "source": []
  }
 ],
 "metadata": {
  "kernelspec": {
   "display_name": "Python 3 (ipykernel)",
   "language": "python",
   "name": "python3"
  },
  "language_info": {
   "codemirror_mode": {
    "name": "ipython",
    "version": 3
   },
   "file_extension": ".py",
   "mimetype": "text/x-python",
   "name": "python",
   "nbconvert_exporter": "python",
   "pygments_lexer": "ipython3",
   "version": "3.13.1"
  }
 },
 "nbformat": 4,
 "nbformat_minor": 5
}
